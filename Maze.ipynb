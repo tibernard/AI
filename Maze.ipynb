{
  "nbformat": 4,
  "nbformat_minor": 0,
  "metadata": {
    "colab": {
      "name": "Maze.ipynb",
      "provenance": [],
      "collapsed_sections": [],
      "include_colab_link": true
    },
    "kernelspec": {
      "name": "python3",
      "display_name": "Python 3"
    }
  },
  "cells": [
    {
      "cell_type": "markdown",
      "metadata": {
        "id": "view-in-github",
        "colab_type": "text"
      },
      "source": [
        "<a href=\"https://colab.research.google.com/github/tibernard/AI/blob/master/Maze.ipynb\" target=\"_parent\"><img src=\"https://colab.research.google.com/assets/colab-badge.svg\" alt=\"Open In Colab\"/></a>"
      ]
    },
    {
      "cell_type": "markdown",
      "metadata": {
        "id": "QKslOXNnf_Mo",
        "colab_type": "text"
      },
      "source": [
        "# Maze Generation"
      ]
    },
    {
      "cell_type": "code",
      "metadata": {
        "id": "-eZSKoJcgVC6",
        "colab_type": "code",
        "colab": {}
      },
      "source": [
        "import numpy as np\n",
        "import matplotlib.pyplot as pyplot\n",
        "\n",
        "def Generate_Maze(dim=4, pr=0.6):\n",
        "    shape = dim,dim\n",
        "    # Create the matrix\n",
        "    Z = np.zeros(shape, dtype=bool)\n",
        "    # Generate random distribution of empty or non empty cells (0 is empty and 1 is non empty)\n",
        "    Z=np.random.choice([0, 1], p=[1-pr,pr], size=(dim, dim))\n",
        "    # Exclude Upper left and down right cell \n",
        "    Z[0,0]=0\n",
        "    Z[-1,-1]=0\n",
        "    return Z\n",
        "\n"
      ],
      "execution_count": 0,
      "outputs": []
    },
    {
      "cell_type": "code",
      "metadata": {
        "id": "B_UL2fEzhDi3",
        "colab_type": "code",
        "outputId": "947e2a11-adca-4ef0-860d-fbdbe40303ad",
        "colab": {
          "base_uri": "https://localhost:8080/",
          "height": 310
        }
      },
      "source": [
        "#0.1;\n",
        "pyplot.figure(figsize=(10, 5))\n",
        "pyplot.imshow(Generate_Maze(20,0.1), cmap=pyplot.cm.binary, interpolation='nearest',aspect='equal')\n",
        "pyplot.xticks([]), pyplot.yticks([])\n",
        "pyplot.show()"
      ],
      "execution_count": 0,
      "outputs": [
        {
          "output_type": "display_data",
          "data": {
            "image/png": "[encoded data removed]",
            "text/plain": [
              "<Figure size 720x360 with 1 Axes>"
            ]
          },
          "metadata": {
            "tags": []
          }
        }
      ]
    },
    {
      "cell_type": "code",
      "metadata": {
        "id": "XQQv7uGBhL-h",
        "colab_type": "code",
        "outputId": "187a7301-1ab0-4263-952d-657fd9997a4f",
        "colab": {
          "base_uri": "https://localhost:8080/",
          "height": 310
        }
      },
      "source": [
        "#0.3\n",
        "pyplot.figure(figsize=(10, 5))\n",
        "pyplot.imshow(Generate_Maze(20,0.3), cmap=pyplot.cm.binary, interpolation='nearest',aspect='equal')\n",
        "pyplot.xticks([]), pyplot.yticks([])\n",
        "pyplot.show()"
      ],
      "execution_count": 0,
      "outputs": [
        {
          "output_type": "display_data",
          "data": {
            "image/png": "[encoded data removed]",
            "text/plain": [
              "<Figure size 720x360 with 1 Axes>"
            ]
          },
          "metadata": {
            "tags": []
          }
        }
      ]
    },
    {
      "cell_type": "code",
      "metadata": {
        "id": "xQLRw6cghNiJ",
        "colab_type": "code",
        "outputId": "0374740b-e444-40ac-fefe-85877b713bf1",
        "colab": {
          "base_uri": "https://localhost:8080/",
          "height": 310
        }
      },
      "source": [
        "#0.5\n",
        "pyplot.figure(figsize=(10, 5))\n",
        "pyplot.imshow(Generate_Maze(20,0.5), cmap=pyplot.cm.binary, interpolation='nearest',aspect='equal')\n",
        "pyplot.xticks([]), pyplot.yticks([])\n",
        "pyplot.show()"
      ],
      "execution_count": 0,
      "outputs": [
        {
          "output_type": "display_data",
          "data": {
            "image/png": "[encoded data removed]",
            "text/plain": [
              "<Figure size 720x360 with 1 Axes>"
            ]
          },
          "metadata": {
            "tags": []
          }
        }
      ]
    },
    {
      "cell_type": "markdown",
      "metadata": {
        "id": "PuCIUX3Ig0S1",
        "colab_type": "text"
      },
      "source": [
        "# Implementing BFS Algorithm"
      ]
    },
    {
      "cell_type": "code",
      "metadata": {
        "id": "ixZMLtXOg4i3",
        "colab_type": "code",
        "colab": {}
      },
      "source": [
        "def generate_graph(maze): #This function consist to represent our matrix in the form of dictionary (Adjency List. \n",
        "    graph = {(i, j): [] for j in range(len(maze)) for i in range(len(maze)) } #Initialize our adjency list \n",
        "    for row, col in graph.keys():\n",
        "        #Between lines we can down (D) and up (U) except in the first line and last line where we can go UP or Down\n",
        "        if row < len(maze) - 1: \n",
        "            graph[(row, col)].append((\"D\", (row + 1, col)))\n",
        "            graph[(row + 1, col)].append((\"U\", (row, col)))\n",
        "            #Between clomns we can Right (R) and Left (L) except in the first column and last column where we can go UP or Down\n",
        "        if col < len(maze) - 1: \n",
        "            graph[(row, col)].append((\"R\", (row, col + 1)))\n",
        "            graph[(row, col + 1)].append((\"L\", (row, col)))\n",
        "    return graph\n",
        "  \n"
      ],
      "execution_count": 0,
      "outputs": []
    },
    {
      "cell_type": "code",
      "metadata": {
        "id": "_UljswcbiVzm",
        "colab_type": "code",
        "outputId": "1960b042-e3e2-481f-9fec-562b276aca80",
        "colab": {
          "base_uri": "https://localhost:8080/",
          "height": 310
        }
      },
      "source": [
        "# This Part is to generate the initial Maze that will be used by the Search algorithms\n",
        "#We take a copy of the original Maze because to avoid modify the maze with the differents paths finding by the Searchh algorithms\n",
        "Maze=Generate_Maze(20,0.2)\n",
        "dfs_Maze=Maze.copy()\n",
        "bfs_Maze=Maze.copy()\n",
        "bd_bfs_Maze=Maze.copy()\n",
        "Astar_E_Maze=Maze.copy()\n",
        "Astar_M_Maze=Maze.copy()\n",
        "#fring_size=0\n",
        "#s_Maze=Maze.copy()\n",
        "def View_Maze(Maze):\n",
        "  pyplot.figure(figsize=(20, 5))\n",
        "  pyplot.imshow(Maze, cmap=pyplot.cm.Greys, animated=True, interpolation='nearest',aspect='equal')\n",
        "  pyplot.xticks([]), pyplot.yticks([])\n",
        "  pyplot.show()\n",
        "  \n",
        "View_Maze(Maze)\n"
      ],
      "execution_count": 0,
      "outputs": [
        {
          "output_type": "display_data",
          "data": {
            "image/png": "[encoded data removed]",
            "text/plain": [
              "<Figure size 1440x360 with 1 Axes>"
            ]
          },
          "metadata": {
            "tags": []
          }
        }
      ]
    },
    {
      "cell_type": "code",
      "metadata": {
        "id": "85UBJPjdIWaO",
        "colab_type": "code",
        "outputId": "f385f795-e869-407f-cd10-50cd899f9c03",
        "colab": {
          "base_uri": "https://localhost:8080/",
          "height": 620
        }
      },
      "source": [
        "initial_state,goal_state=(0,0),(len(Maze)-1,len(Maze)-1)\n",
        "restricted_states= {(i, j): [] for j in range(len(Maze)) for i in range(len(Maze)) if Maze[i][j]}\n",
        "\n",
        "def bfs_search(initial_state, goal_state, restricted_states):\n",
        "  from collections import deque\n",
        "  graph = generate_graph(Maze) # We get the adjency list version of our maze to facilitate the retrieval of the neighbors\n",
        "  #bfs_Maze=Maze.copy()\n",
        "\n",
        "  fringe = deque([(\"\", initial_state)]) #Initialise the fringe with the initial state which (0,0)\n",
        "  prev= []\n",
        "  closed_set = set()\n",
        "  i=1\n",
        "  while fringe: #While there is nodes in the fringe that are not explored yet\n",
        "    path,current_state = fringe.popleft() # We pop the oldest values from the queue\n",
        "    \n",
        "    if current_state not in closed_set: #To avoid checking the visited states\n",
        "      \n",
        "      if current_state == goal_state: #Success Termination condition\n",
        "        #print(closed_set)\n",
        "        bfs_Maze[goal_state]=2 #We marked the goal state as part of the valid path\n",
        "        return path\n",
        "      else:\n",
        "        for action,neighbor in graph[current_state]:\n",
        "          if neighbor not in restricted_states.keys():\n",
        "            fringe.append((path + action, neighbor))\n",
        "            #prev[ neighbor ] = current_state\n",
        "            bfs_Maze[current_state]=2 #All the path marked\n",
        "            closed_set.add( current_state ) #Save the visisted state\n",
        "  return \"No Solution\" # Unsuccess termination condition after we finish to visit all the nodes\n",
        "\n",
        "print(bfs_search(initial_state, goal_state, restricted_states))\n",
        "View_Maze(Maze)\n",
        "View_Maze(bfs_Maze)\n",
        "\n",
        "\n"
      ],
      "execution_count": 0,
      "outputs": [
        {
          "output_type": "stream",
          "text": [
            "DDDDDDDDDDDRRDDDDRRRRDRRRRRRRRRDRRRRDD\n"
          ],
          "name": "stdout"
        },
        {
          "output_type": "display_data",
          "data": {
            "image/png": "[encoded data removed]",
            "text/plain": [
              "<Figure size 1440x360 with 1 Axes>"
            ]
          },
          "metadata": {
            "tags": []
          }
        },
        {
          "output_type": "display_data",
          "data": {
            "image/png": "[encoded data removed]",
            "text/plain": [
              "<Figure size 1440x360 with 1 Axes>"
            ]
          },
          "metadata": {
            "tags": []
          }
        }
      ]
    },
    {
      "cell_type": "markdown",
      "metadata": {
        "id": "CwPEJ1dW-QYk",
        "colab_type": "text"
      },
      "source": [
        "# Implementing DFS Algorithm"
      ]
    },
    {
      "cell_type": "code",
      "metadata": {
        "id": "W1Ol-qKf-YWL",
        "colab_type": "code",
        "outputId": "408e69ad-0d1f-4bf1-c1d8-89da07984cb8",
        "colab": {
          "base_uri": "https://localhost:8080/",
          "height": 620
        }
      },
      "source": [
        "initial_state,goal_state=(0,0),(len(Maze)-1,len(Maze)-1)\n",
        "restricted_states= {(i, j): [] for j in range(len(Maze)) for i in range(len(Maze)) if Maze[i][j]}\n",
        "\n",
        "#The DFS is exactly the same as BFS except we use a stack (we pop the newest value)\n",
        "#We copy paste the same BFS algorithm, we only change the way we are poping the node from the queue\n",
        "def dfs_search(initial_state, goal_state, restricted_states):\n",
        "  from collections import deque\n",
        "  graph = generate_graph(Maze)\n",
        "  #dfs_Maze=Maze.copy()\n",
        "  fringe = deque([(\"\", initial_state)])\n",
        "  prev= []\n",
        "  closed_set = set()\n",
        "  global fring_size\n",
        "  global moves_count\n",
        "  global path_length\n",
        "  \n",
        "  i=1\n",
        "  moves_count=0\n",
        "  while fringe:\n",
        "    path,current_state = fringe.pop()\n",
        "    moves_count=moves_count+1\n",
        "    if current_state not in closed_set:\n",
        "      \n",
        "      if current_state == goal_state:\n",
        "        #print(closed_set)\n",
        "        dfs_Maze[goal_state]=2\n",
        "        dfs_fring_size= len(fringe) #Size of the fringe is saved in a global varibale\n",
        "        fring_size=dfs_fring_size\n",
        "        path_length=len(path)\n",
        "        #print(fring_size)\n",
        "        return path \n",
        "      else:\n",
        "        for action,neighbor in graph[current_state]:\n",
        "          if neighbor not in restricted_states.keys():\n",
        "            fringe.append((path + action, neighbor))\n",
        "            #prev[ neighbor ] = current_state\n",
        "            dfs_Maze[current_state]=2\n",
        "            closed_set.add( current_state )\n",
        "  return \"No Solution\"\n",
        "\n",
        "print(dfs_search(initial_state, goal_state, restricted_states))\n",
        "View_Maze(Maze)\n",
        "View_Maze(dfs_Maze)"
      ],
      "execution_count": 0,
      "outputs": [
        {
          "output_type": "stream",
          "text": [
            "RRRRRDDLDDRDRRRRRDRRRRRRDRRRDDDLDDRDDDDDDD\n"
          ],
          "name": "stdout"
        },
        {
          "output_type": "display_data",
          "data": {
            "image/png": "[encoded data removed]",
            "text/plain": [
              "<Figure size 1440x360 with 1 Axes>"
            ]
          },
          "metadata": {
            "tags": []
          }
        },
        {
          "output_type": "display_data",
          "data": {
            "image/png": "[encoded data removed]",
            "text/plain": [
              "<Figure size 1440x360 with 1 Axes>"
            ]
          },
          "metadata": {
            "tags": []
          }
        }
      ]
    },
    {
      "cell_type": "markdown",
      "metadata": {
        "id": "9WVx5Mvg_km8",
        "colab_type": "text"
      },
      "source": [
        "# Implementing BD-BFS Algorithm"
      ]
    },
    {
      "cell_type": "code",
      "metadata": {
        "id": "qfQoyp7N_xtk",
        "colab_type": "code",
        "outputId": "4b0e4c5e-0408-41a5-d752-84745b2069be",
        "colab": {
          "base_uri": "https://localhost:8080/",
          "height": 620
        }
      },
      "source": [
        "initial_state,goal_state=(0,0),(len(Maze)-1,len(Maze)-1)\n",
        "restricted_states= {(i, j): [] for j in range(len(Maze)) for i in range(len(Maze)) if Maze[i][j]}\n",
        "# The general idea of this algorithm is to run two BFS in a fringe , one in forward and the other in backward\n",
        "# And stop once we find an intersection node between them\n",
        "def bd_bfs_search(initial_state, goal_state, restricted_states):\n",
        "  from collections import deque\n",
        "  graph = generate_graph(Maze)\n",
        "  #bd_bfs_Maze=Maze.copy()\n",
        "  fringe_start = deque([(\"\", initial_state)]) #Starting state of forward BFS\n",
        "  fringe_end = deque([(\"\", goal_state)]) # Staring state of the Backward BFS\n",
        "  prev= []\n",
        "  closed_set_start = set() #Visited state for forward BFS\n",
        "  closed_set_end = set() #Visited state for backward BFS\n",
        "  i=1\n",
        "  while fringe_start and fringe_end: #While we have univisted nodes in both fringes\n",
        "    #print(\"fringe_start\",fringe_start)\n",
        "    #print(\"fringe_end\",fringe_end)\n",
        "    \n",
        "    #Because we running BFS in both fringes , we pop the oldest values in both\n",
        "    path_start,current_state_start = fringe_start.popleft()\n",
        "    path_end,current_state_end = fringe_end.popleft()\n",
        "    \n",
        "    #print(\"current_state_start\",current_state_start)\n",
        "    #print(\"current_state_end\",current_state_end)\n",
        "    \n",
        "    # Sam rules in BFS regarding the visisted nodes\n",
        "    if current_state_end not in closed_set_end:\n",
        "      #Condition of termination in the Backward process (Intersection nodes)\n",
        "      if current_state_start == current_state_end or  current_state_end in closed_set_start:\n",
        "        bd_bfs_Maze[current_state_end]=3\n",
        "        return path_start+ \"-\"+path_end\n",
        "      else:\n",
        "        for action,neighbor in graph[current_state_end]:\n",
        "          if neighbor not in restricted_states.keys():\n",
        "            fringe_end.append((action+path_end , neighbor)) #  We write the path in the opposite way to the normal BFS\n",
        "            #prev[ neighbor ] = current_state\n",
        "            bd_bfs_Maze[current_state_end]=2\n",
        "            closed_set_end.add( current_state_end )\n",
        "    \n",
        "    if current_state_start not in closed_set_start:\n",
        "      #Condition of termination in the forward process  (Intersection nodes)\n",
        "      if current_state_start == current_state_end or current_state_start in closed_set_end:\n",
        "        bd_bfs_Maze[current_state_start]=3 # Special value used to marke the intersection node\n",
        "        return path_start+ \"-\"+path_end # Concatenate the Forward and Backward paths\n",
        "      else:\n",
        "        for action,neighbor in graph[current_state_start]:\n",
        "          if neighbor not in restricted_states.keys():\n",
        "            fringe_start.append((path_start + action, neighbor))\n",
        "            #prev[ neighbor ] = current_state\n",
        "            bd_bfs_Maze[current_state_start]=2\n",
        "            closed_set_start.add( current_state_start )\n",
        "            \n",
        "   \n",
        "   \n",
        "  return \"No Solution\"\n",
        "\n",
        "print(bd_bfs_search(initial_state, goal_state, restricted_states))\n",
        "#print(Maze)\n",
        "View_Maze(Maze)\n",
        "View_Maze(bd_bfs_Maze)\n",
        "\n",
        "#maze2graph(Maze)\n",
        "\n",
        "#RDDDRR\n",
        "#DDDRRR\n"
      ],
      "execution_count": 0,
      "outputs": [
        {
          "output_type": "stream",
          "text": [
            "DDDDDDDDDDDRRDDDDRRR-UUUUUUUUUUUUUUULUU\n"
          ],
          "name": "stdout"
        },
        {
          "output_type": "display_data",
          "data": {
            "image/png": "[encoded data removed]",
            "text/plain": [
              "<Figure size 1440x360 with 1 Axes>"
            ]
          },
          "metadata": {
            "tags": []
          }
        },
        {
          "output_type": "display_data",
          "data": {
            "image/png": "[encoded data removed]",
            "text/plain": [
              "<Figure size 1440x360 with 1 Axes>"
            ]
          },
          "metadata": {
            "tags": []
          }
        }
      ]
    },
    {
      "cell_type": "markdown",
      "metadata": {
        "id": "gcrnOlgBpOHV",
        "colab_type": "text"
      },
      "source": [
        "# A Star Euclidean Distance"
      ]
    },
    {
      "cell_type": "code",
      "metadata": {
        "id": "7B1wbSdPpvAi",
        "colab_type": "code",
        "outputId": "03a3d35b-3a29-4e6d-91c3-2e3ab06e1ee2",
        "colab": {
          "base_uri": "https://localhost:8080/",
          "height": 620
        }
      },
      "source": [
        "initial_state,goal_state=(0,0),(len(Maze)-1,len(Maze)-1)\n",
        "restricted_states= {(i, j): [] for j in range(len(Maze)) for i in range(len(Maze)) if Maze[i][j]}\n",
        "\n",
        "# Same comments as the Manhattan A star used Euclidian distance\n",
        "def heuristic_dist(current_state, goal_state,d=\"M\"):\n",
        "  import math\n",
        "  if d==\"M\": #Manhattan distance\n",
        "    h=abs(current_state[0] - goal_state[0]) + abs(current_state[1] - goal_state[1])\n",
        "  else: #Euclidian distance\n",
        "    h=math.sqrt( (current_state[0] - goal_state[0])**2 +(current_state[1] - goal_state[1])**2)\n",
        "  return h\n",
        "  \n",
        "def Astar_search_Ecludian(initial_state, goal_state, restricted_states):\n",
        "  from heapq import heappop, heappush\n",
        "  graph = generate_graph(Maze)\n",
        "\n",
        "  fringe = []\n",
        "  prev= []\n",
        "  closed_set = set()\n",
        "  g=0\n",
        "  h=heuristic_dist(initial_state, goal_state,\"E\")\n",
        "  f=g+h\n",
        "  heappush(fringe, (f, g, \"\", initial_state))\n",
        "  \n",
        "  i=1\n",
        "  while fringe:\n",
        "    f,g,path,current_state  = heappop(fringe)\n",
        "    \n",
        "    if current_state not in closed_set:\n",
        "      \n",
        "      if current_state == goal_state:\n",
        "        #print(closed_set)\n",
        "        Astar_E_Maze[goal_state]=2\n",
        "        return path\n",
        "      else:\n",
        "        for action,neighbor in graph[current_state]:\n",
        "          if neighbor not in restricted_states.keys():\n",
        "            h=heuristic_dist(neighbor, goal_state,\"E\")\n",
        "            f=g+h\n",
        "            heappush(fringe, (f, g+1, path+action, neighbor))\n",
        "            #prev[ neighbor ] = current_state\n",
        "            Astar_E_Maze[current_state]=2\n",
        "            closed_set.add( current_state )\n",
        "  return \"No Solution\"\n",
        "\n",
        "print(Astar_search_Ecludian(initial_state, goal_state, restricted_states))\n",
        "View_Maze(Maze)\n",
        "View_Maze(Astar_E_Maze)\n",
        "\n",
        "\n"
      ],
      "execution_count": 0,
      "outputs": [
        {
          "output_type": "stream",
          "text": [
            "DDDDDDDDDDDRRDDDDRRRRDRRRRRRRRRDRRRRDD\n"
          ],
          "name": "stdout"
        },
        {
          "output_type": "display_data",
          "data": {
            "image/png": "[encoded data removed]",
            "text/plain": [
              "<Figure size 1440x360 with 1 Axes>"
            ]
          },
          "metadata": {
            "tags": []
          }
        },
        {
          "output_type": "display_data",
          "data": {
            "image/png": "[encoded data removed]",
            "text/plain": [
              "<Figure size 1440x360 with 1 Axes>"
            ]
          },
          "metadata": {
            "tags": []
          }
        }
      ]
    },
    {
      "cell_type": "markdown",
      "metadata": {
        "id": "DRaBGX1epwrA",
        "colab_type": "text"
      },
      "source": [
        "# A star Manhattan Distance\n"
      ]
    },
    {
      "cell_type": "code",
      "metadata": {
        "id": "mGPPkcmSp7yf",
        "colab_type": "code",
        "outputId": "61b182b2-3fa4-4b66-ad78-05901f1d2a18",
        "colab": {
          "base_uri": "https://localhost:8080/",
          "height": 620
        }
      },
      "source": [
        "initial_state,goal_state=(0,0),(len(Maze)-1,len(Maze)-1)\n",
        "restricted_states= {(i, j): [] for j in range(len(Maze)) for i in range(len(Maze)) if Maze[i][j]}\n",
        "\n",
        "\n",
        "#This function returns both manhattan and Euclidian distance depending of the parameter \"d\"\n",
        "def heuristic_dist(current_state, goal_state,d=\"M\"):\n",
        "  import math\n",
        "  if d==\"M\": #Manhattan distance\n",
        "    h=abs(current_state[0] - goal_state[0]) + abs(current_state[1] - goal_state[1])\n",
        "  else: #Euclidian distance\n",
        "    h=math.sqrt( (current_state[0] - goal_state[0])**2 +(current_state[1] - goal_state[1])**2)\n",
        "  return h\n",
        "  #The idea of this Algorithm is to calculate a total distance to the goal based on the\n",
        "  # distance already ran which is g and estimate the remaing distance which is h(heuristic)\n",
        "  #total distance f=g+h\n",
        "  #the important thing is to use a min heap in order to always have an orderd tree based on f=g+h\n",
        "def Astar_search_Manhattan(initial_state, goal_state, restricted_states):\n",
        "  from heapq import heappop, heappush # Min Heap data structure used\n",
        "  graph = generate_graph(Maze)\n",
        "\n",
        "  fringe = []\n",
        "  prev= []\n",
        "  closed_set = set()\n",
        "  g=0\n",
        "  h=heuristic_dist(initial_state, goal_state,\"M\")\n",
        "  f=g+h\n",
        "  heappush(fringe, (f, g, \"\", initial_state)) #initialize the heap with the items (f,g,empty path and (0,0))\n",
        "  \n",
        "  i=1\n",
        "  global Astar_moves_count # This is used to count the total nodes expanded\n",
        "  Astar_moves_count=0\n",
        "  while fringe:\n",
        "    f,g,path,current_state  = heappop(fringe) #Take the min node from the heap\n",
        "    Astar_moves_count=Astar_moves_count+1 # Count the nodes expanded\n",
        "    \n",
        "    if current_state not in closed_set:\n",
        "      \n",
        "      if current_state == goal_state: #Successful Termination condition \n",
        "        #print(Astar_moves_count)\n",
        "        Astar_M_Maze[goal_state]=2\n",
        "        return path\n",
        "      else:\n",
        "        for action,neighbor in graph[current_state]: #Get neighbors from the graph\n",
        "          if neighbor not in restricted_states.keys():\n",
        "            h=heuristic_dist(neighbor, goal_state,\"M\")\n",
        "            f=g+h\n",
        "            heappush(fringe, (f, g+1, path+action, neighbor))\n",
        "            #prev[ neighbor ] = current_state\n",
        "            Astar_M_Maze[current_state]=2 #Marked the paths\n",
        "            closed_set.add( current_state )\n",
        "  return \"No Solution\"\n",
        "Traversing\n",
        "print(Astar_search_Manhattan(initial_state, goal_state, restricted_states))\n",
        "View_Maze(Maze)\n",
        "View_Maze(Astar_M_Maze)\n",
        "\n",
        "\n"
      ],
      "execution_count": 0,
      "outputs": [
        {
          "output_type": "stream",
          "text": [
            "DDDDDDDDDDDRRDDDDRRRRDRRRRRRRRRDRRRRDD\n"
          ],
          "name": "stdout"
        },
        {
          "output_type": "display_data",
          "data": {
            "image/png": "[encoded data removed]",
            "text/plain": [
              "<Figure size 1440x360 with 1 Axes>"
            ]
          },
          "metadata": {
            "tags": []
          }
        },
        {
          "output_type": "display_data",
          "data": {
            "image/png": "[encoded data removed]",
            "text/plain": [
              "<Figure size 1440x360 with 1 Axes>"
            ]
          },
          "metadata": {
            "tags": []
          }
        }
      ]
    },
    {
      "cell_type": "markdown",
      "metadata": {
        "id": "JnOJLZp6zRC9",
        "colab_type": "text"
      },
      "source": [
        "# Hard Maze -Local Search and DFS with Maximal Fringe Size"
      ]
    },
    {
      "cell_type": "code",
      "metadata": {
        "id": "5gpzCj1p0QsC",
        "colab_type": "code",
        "outputId": "7bd7a5c9-bf9e-471c-85f2-fa0da443bd95",
        "colab": {
          "base_uri": "https://localhost:8080/",
          "height": 1000
        }
      },
      "source": [
        "#global fring_size\n",
        "def hill_climbing(v_maze):\n",
        "  x_initial_state,x_goal_state=(0,0),(len(v_maze)-1,len(v_maze)-1)\n",
        "  x_restricted_states= {(i, j): [] for j in range(len(v_maze)) for i in range(len(v_maze)) if v_maze[i][j]}\n",
        "\n",
        "  hard_Maze_fringe=Maze.copy()\n",
        "  hard_Maze_path=Maze.copy()\n",
        "  hard_Maze_moves=Maze.copy()\n",
        "  new_Maze=Maze.copy()\n",
        "  #fring_size=0\n",
        "  iteration=20\n",
        "  \n",
        "  moves=0\n",
        "  k=0\n",
        "  Not_solvable=\"No Solution\"\n",
        "  print(dfs_search(x_initial_state, x_goal_state, x_restricted_states))\n",
        "  #Initial check if \n",
        "  if Not_solvable!=dfs_search(x_initial_state, x_initial_state, x_initial_state):\n",
        "    old_fringe_size=fring_size\n",
        "    old_path_length=path_length\n",
        "    old_moves_count=moves_count\n",
        "    # Run for for fix number of iteration before stop\n",
        "    while (k<=iteration):\n",
        "      # For each cell, we change it to 1(wall) if it was 0(empty) and 0 otherwise\n",
        "      for i in range(len(new_Maze)):\n",
        "        for j in range(len(new_Maze)):\n",
        "          if new_Maze[i][j]==0:\n",
        "            new_Maze[i][j]=1\n",
        "          else:\n",
        "            new_Maze[i][j]=0\n",
        "          x_initial_state,x_goal_state=(0,0),(len(new_Maze)-1,len(new_Maze)-1)\n",
        "          x_restricted_states= {(i, j): [] for j in range(len(new_Maze)) for i in range(len(new_Maze)) if new_Maze[i][j]}\n",
        "          #Here we solve the New configuration of the maze with DFS\n",
        "          if Not_solvable!=dfs_search(x_initial_state, x_goal_state, x_restricted_states):\n",
        "            #We save the fringe size which is a parameter of complexity\n",
        "            new_fringe_size=fring_size\n",
        "            new_path_length=path_length\n",
        "            new_moves_count=moves_count\n",
        "            #print(new_fringe_size)\n",
        "          else:\n",
        "            new_Maze[i][j]=0 # In case the new configuration is not solvable we get back to the previous configuration\n",
        "          if old_fringe_size<new_fringe_size: #Check if we find a worst fringe size\n",
        "            old_fringe_size=new_fringe_size\n",
        "            hard_Maze_fringe=new_Maze.copy()\n",
        "            \n",
        "          if old_path_length<new_path_length: #Check if we find a worst path length\n",
        "            old_path_length=new_path_length\n",
        "            hard_Maze_path=new_Maze.copy()\n",
        "           \n",
        "          if old_moves_count<new_moves_count: #Check if we find a worst  moves\n",
        "            old_moves_count=new_moves_count\n",
        "            hard_Maze_moves=new_Maze.copy()\n",
        "            \n",
        "      k=k+1\n",
        "    print(\"Fringe size\",old_fringe_size)\n",
        "    View_Maze(hard_Maze_fringe) \n",
        "    print(\"Path length\",old_path_length)#show the hard maze based on worst fringe\n",
        "    View_Maze(hard_Maze_path)\n",
        "    print(\"Nodes Expanded\",old_moves_count)#show the hard maze based on worst path length\n",
        "    View_Maze(hard_Maze_moves)      #show the hard maze based on worst moves count\n",
        "          \n",
        "  else:\n",
        "    return \"Initial Maze not Solvable\"\n",
        "  \n",
        "    \n",
        "    \n",
        "NewMaze=Generate_Maze(20,0.2)\n",
        "global Maze\n",
        "#global dfs_Maze\n",
        "global fring_size\n",
        "global moves_count\n",
        "global path_length\n",
        "Maze=NewMaze.copy()\n",
        "#dfs_Maze=Maze.copy()\n",
        "#print(fring_size)\n",
        "hill_climbing(Maze)\n",
        "View_Maze(Maze)"
      ],
      "execution_count": 0,
      "outputs": [
        {
          "output_type": "stream",
          "text": [
            "RRDRRRRDRRRRRRDRDRRRRDDDRDRDLLDLDLULDLUURURRULUULDLDLDDDDDDRRDRRRRRDLDDDRD\n",
            "Fringe size 189\n"
          ],
          "name": "stdout"
        },
        {
          "output_type": "display_data",
          "data": {
            "image/png": "[encoded data removed]",
            "text/plain": [
              "<Figure size 1440x360 with 1 Axes>"
            ]
          },
          "metadata": {
            "tags": []
          }
        },
        {
          "output_type": "stream",
          "text": [
            "Path length 142\n"
          ],
          "name": "stdout"
        },
        {
          "output_type": "display_data",
          "data": {
            "image/png": "[encoded data removed]",
            "text/plain": [
              "<Figure size 1440x360 with 1 Axes>"
            ]
          },
          "metadata": {
            "tags": []
          }
        },
        {
          "output_type": "stream",
          "text": [
            "Nodes Expanded 606\n"
          ],
          "name": "stdout"
        },
        {
          "output_type": "display_data",
          "data": {
            "image/png": "[encoded data removed]",
            "text/plain": [
              "<Figure size 1440x360 with 1 Axes>"
            ]
          },
          "metadata": {
            "tags": []
          }
        },
        {
          "output_type": "display_data",
          "data": {
            "image/png": "[encoded data removed]",
            "text/plain": [
              "<Figure size 1440x360 with 1 Axes>"
            ]
          },
          "metadata": {
            "tags": []
          }
        }
      ]
    },
    {
      "cell_type": "markdown",
      "metadata": {
        "id": "ofxy5TWl-0XE",
        "colab_type": "text"
      },
      "source": [
        "# Hard Maze For A Star- Max nodes expanded"
      ]
    },
    {
      "cell_type": "code",
      "metadata": {
        "id": "q8Y0BYaXAxdv",
        "colab_type": "code",
        "outputId": "66b1a9ff-2dd4-4b25-f3d2-a6b7bb0e026e",
        "colab": {
          "base_uri": "https://localhost:8080/",
          "height": 637
        }
      },
      "source": [
        "#global fring_size\n",
        "def hill_climbing(v_maze):\n",
        "  x_initial_state,x_goal_state=(0,0),(len(v_maze)-1,len(v_maze)-1)\n",
        "  x_restricted_states= {(i, j): [] for j in range(len(v_maze)) for i in range(len(v_maze)) if v_maze[i][j]}\n",
        "\n",
        "  hard_Maze_fringe=Maze.copy()\n",
        "  hard_Maze_path=Maze.copy()\n",
        "  hard_Maze_moves=Maze.copy()\n",
        "  new_Maze=Maze.copy()\n",
        "  #fring_size=0\n",
        "  iteration=20\n",
        "  \n",
        "  moves=0\n",
        "  k=0\n",
        "  Not_solvable=\"No Solution\"\n",
        "  print(Astar_search_Manhattan(x_initial_state, x_goal_state, x_restricted_states))\n",
        "  #Initial check if \n",
        "  if Not_solvable!=Astar_search_Manhattan(x_initial_state, x_initial_state, x_initial_state):\n",
        "   \n",
        "    old_moves_count=Astar_moves_count #Count of nodes expanded\n",
        "    # Run for for fix number of iteration before stop\n",
        "    while (k<=iteration):\n",
        "      # For each cell, we change it to 1(wall) if it was 0(empty) and 0 otherwise\n",
        "      for i in range(len(new_Maze)):\n",
        "        for j in range(len(new_Maze)):\n",
        "          if new_Maze[i][j]==0:\n",
        "            new_Maze[i][j]=1\n",
        "          else:\n",
        "            new_Maze[i][j]=0\n",
        "          x_initial_state,x_goal_state=(0,0),(len(new_Maze)-1,len(new_Maze)-1)\n",
        "          x_restricted_states= {(i, j): [] for j in range(len(new_Maze)) for i in range(len(new_Maze)) if new_Maze[i][j]}\n",
        "          #Here we solve the New configuration of the maze with DFS\n",
        "          if Not_solvable!=Astar_search_Manhattan(x_initial_state, x_goal_state, x_restricted_states):\n",
        "            #We save the fringe size which is a parameter of complexity\n",
        "           \n",
        "            new_moves_count=Astar_moves_count #Count of nodes expanded currently\n",
        "            #print(new_moves_count)\n",
        "          else:\n",
        "            new_Maze[i][j]=0 # In case the new configuration is not solvable we get back to the previous configuration\n",
        "          \n",
        "           \n",
        "          if old_moves_count<new_moves_count: #Check if we find a worst count nodes expanded\n",
        "            old_moves_count=new_moves_count #Copy worst value\n",
        "            hard_Maze_moves=new_Maze.copy() #Copy worst maze so far\n",
        "            \n",
        "      k=k+1\n",
        "    \n",
        "    print(\"Nodes Expanded\",old_moves_count)#show the hard maze based on worst path length\n",
        "    View_Maze(hard_Maze_moves)      #show the hard maze based on worst moves count\n",
        "          \n",
        "  else:\n",
        "    return \"Initial Maze not Solvable\"\n",
        "  \n",
        "    \n",
        "    \n",
        "#NewMaze=Generate_Maze(20,0.2)\n",
        "global Maze\n",
        "#global dfs_Maze\n",
        "global fring_size\n",
        "global moves_count\n",
        "global Astar_moves_count\n",
        "global path_length\n",
        "Maze=NewMaze.copy()\n",
        "#dfs_Maze=Maze.copy()\n",
        "#print(fring_size)\n",
        "hill_climbing(Maze)\n",
        "View_Maze(Maze)"
      ],
      "execution_count": 0,
      "outputs": [
        {
          "output_type": "stream",
          "text": [
            "DDDDRDDDRRRRDDDDRDRDDDRRDRRRRRRDDRRRRD\n",
            "Nodes Expanded 665\n"
          ],
          "name": "stdout"
        },
        {
          "output_type": "display_data",
          "data": {
            "image/png": "[encoded data removed]",
            "text/plain": [
              "<Figure size 1440x360 with 1 Axes>"
            ]
          },
          "metadata": {
            "tags": []
          }
        },
        {
          "output_type": "display_data",
          "data": {
            "image/png": "[encoded data removed]",
            "text/plain": [
              "<Figure size 1440x360 with 1 Axes>"
            ]
          },
          "metadata": {
            "tags": []
          }
        }
      ]
    },
    {
      "cell_type": "markdown",
      "metadata": {
        "id": "0TtIUF86_TaY",
        "colab_type": "text"
      },
      "source": [
        "# Maze on Fire"
      ]
    },
    {
      "cell_type": "code",
      "metadata": {
        "id": "Tb6J8sg9_b3X",
        "colab_type": "code",
        "outputId": "198f9894-e398-418d-9659-423bd8e29ed6",
        "colab": {
          "base_uri": "https://localhost:8080/",
          "height": 915
        }
      },
      "source": [
        "import numpy as np\n",
        "import matplotlib.pyplot as pyplot\n",
        "import random as ran\n",
        "\n",
        "#This function generates the maze, with the addition of the fire cell in the upper right\n",
        "def Fire_Maze(dim=4, pr=0.6):\n",
        "    shape = dim,dim\n",
        "    # Create the matrix\n",
        "    Z = np.zeros(shape, dtype=bool)\n",
        "    # Generate random distribution of empty or non empty cells (0 is empty and 1 is non empty)\n",
        "    Z=np.random.choice([0, 1], p=[1-pr,pr], size=(dim, dim))\n",
        "    # Exclude Upper left and down right cell \n",
        "    Z[0,0]=0\n",
        "    Z[-1,-1]=0\n",
        "    Z[0,-1]=1\n",
        "    return Z\n",
        "\n",
        "#Initializing objects of the DFS function for the dynamic maze\n",
        "FMaze = Fire_Maze(100, 0.2)\n",
        "initial_state,goal_state=(0,0),(len(FMaze)-1,len(FMaze)-1)\n",
        "restricted_states= {(i, j): [] for j in range(len(FMaze)) for i in range(len(FMaze)) if FMaze[i][j] == 1}\n",
        "empty_states= {(i, j): [] for j in range(len(FMaze)) for i in range(len(FMaze)) if FMaze[i][j] == 0}\n",
        "\n",
        "def fire_search(initial_state, goal_state, restricted_states, empty_states, FMaze):\n",
        "  from collections import deque\n",
        "  graph = generate_graph(FMaze)\n",
        "  fringe = deque([(\"\", initial_state)])\n",
        "  prev= []\n",
        "  closed_set = set()\n",
        "  \n",
        "  i=1\n",
        "  while fringe:\n",
        "    path,current_state = fringe.pop()\n",
        "    val = np.random.choice([0,1], p = (.5**i, (1-(.5)**i))) #value is either 0 or 1, with 0 < Q < 1\n",
        "    \n",
        "    if current_state not in closed_set:\n",
        "      \n",
        "      if(val == 1): #checks if a fire should pop every time step\n",
        "        cell_on_fire = ran.choice(list(empty_states.keys()))\n",
        "        y, x = cell_on_fire\n",
        "        FMaze[x,y] = 1\n",
        "        restricted_states.update({cell_on_fire: []})\n",
        "        del empty_states[cell_on_fire]\n",
        "      \n",
        "      if current_state == goal_state: # End of the path, goal reached\n",
        "        #print(closed_set)\n",
        "        FMaze[goal_state]=2\n",
        "        return path \n",
        "      else:\n",
        "        for action,neighbor in graph[current_state]: # Keep looping until goal is found, make sure closed set is incremented by the current state to avoid backtracking\n",
        "          if neighbor not in restricted_states.keys():\n",
        "            fringe.append((path + action, neighbor))\n",
        "            #prev[ neighbor ] = current_state\n",
        "            FMaze[current_state]=2\n",
        "            closed_set.add( current_state )\n",
        "            i = i + 1 # part of the function to calculate the value, the k value\n",
        "  return \"No Solution\"\n",
        "\n",
        "View_Maze(FMaze)\n",
        "print(fire_search(initial_state, goal_state, restricted_states, empty_states, FMaze))\n",
        "View_Maze(FMaze)\n",
        "\n",
        "\n",
        "pyplot.plot([0, .2, .4, .6, .8, 1],[100, 100, 81, 45, 16, 0] )\n",
        "pyplot.ylabel(\"Solvability\")\n",
        "pyplot.xlabel(\"Probability of Fire\")\n",
        "pyplot.title(\"# of Successes V Density of Fire\")"
      ],
      "execution_count": 0,
      "outputs": [
        {
          "output_type": "display_data",
          "data": {
            "image/png": "[encoded data removed]",
            "text/plain": [
              "<Figure size 1440x360 with 1 Axes>"
            ]
          },
          "metadata": {
            "tags": []
          }
        },
        {
          "output_type": "stream",
          "text": [
            "No Solution\n"
          ],
          "name": "stdout"
        },
        {
          "output_type": "display_data",
          "data": {
            "image/png": "[encoded data removed]",
            "text/plain": [
              "<Figure size 1440x360 with 1 Axes>"
            ]
          },
          "metadata": {
            "tags": []
          }
        },
        {
          "output_type": "execute_result",
          "data": {
            "text/plain": [
              "Text(0.5, 1.0, '# of Successes V Density of Fire')"
            ]
          },
          "metadata": {
            "tags": []
          },
          "execution_count": 82
        },
        {
          "output_type": "display_data",
          "data": {
            "image/png": "[encoded data removed]",
            "text/plain": [
              "<Figure size 432x288 with 1 Axes>"
            ]
          },
          "metadata": {
            "tags": []
          }
        }
      ]
    }
  ]
}